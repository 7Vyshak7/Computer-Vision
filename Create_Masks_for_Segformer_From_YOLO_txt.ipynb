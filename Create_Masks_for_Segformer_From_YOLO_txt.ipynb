{
 "cells": [
  {
   "cell_type": "code",
   "execution_count": null,
   "metadata": {},
   "outputs": [],
   "source": [
    "import os\n",
    "import cv2\n",
    "from tqdm import tqdm\n",
    "import numpy as np\n",
    "\n",
    "inpath='path to your images and txt path'\n",
    "maskpath='path to save the RLE Json labels'\n",
    "\n",
    "\n",
    "for ik in tqdm(os.listdir(inpath)[:]):\n",
    "    if not ik.endswith('.jpg'):\n",
    "        continue\n",
    "    img=cv2.imread(inpath+ik)\n",
    "    h,w,_=img.shape\n",
    "    blackImg=np.zeros((h,w,1), dtype=np.uint8)\n",
    "    with open(inpath+ik[:-4]+'.txt' ,'r') as f:\n",
    "            yolo_txt = f.read() \n",
    "    annotations = yolo_txt.strip().split('\\n')\n",
    "    for annotation in annotations:\n",
    "        parts = annotation.split(' ')\n",
    "        classID = int(parts[0])\n",
    "        points = []\n",
    "        for i in range(1, len(parts), 2):\n",
    "            if parts[i] == '':\n",
    "                continue\n",
    "            x = float(parts[i]) * w\n",
    "            y = float(parts[i + 1]) * h\n",
    "            points.append([int(float(x)), int(float(y))])\n",
    "        cv2.fillPoly(blackImg, pts=[np.array(points)], color=[classID+1])\n",
    "    cv2.imwrite(maskpath+ik[:-4]+'.png', blackImg)\n"
   ]
  },
  {
   "cell_type": "code",
   "execution_count": null,
   "metadata": {},
   "outputs": [],
   "source": [
    "'''\n",
    "After creating the mask follow the instruction given in the below github link to start your SegFormer custom training\n",
    "https://github.com/NielsRogge/Transformers-Tutorials/blob/master/SegFormer/Fine_tune_SegFormer_on_custom_dataset.ipynb\n",
    "\n",
    "'''"
   ]
  }
 ],
 "metadata": {
  "language_info": {
   "name": "python"
  }
 },
 "nbformat": 4,
 "nbformat_minor": 2
}
