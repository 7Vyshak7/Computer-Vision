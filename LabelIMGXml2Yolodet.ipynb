{
 "cells": [
  {
   "cell_type": "code",
   "execution_count": 12,
   "id": "9f4a37e9",
   "metadata": {},
   "outputs": [],
   "source": [
    "import xml.etree.ElementTree as ET\n",
    "import glob\n",
    "import os\n",
    "import json\n",
    "from tqdm import tqdm"
   ]
  },
  {
   "cell_type": "code",
   "execution_count": 13,
   "id": "1c7e4ff5",
   "metadata": {},
   "outputs": [],
   "source": [
    "path='Path to folder'"
   ]
  },
  {
   "cell_type": "code",
   "execution_count": 14,
   "id": "5e59e62a",
   "metadata": {},
   "outputs": [],
   "source": [
    "def xml_to_yolo_bbox(bbox, w, h):\n",
    "    # xmin, ymin, xmax, ymax\n",
    "    x_center = ((bbox[2] + bbox[0]) / 2) / w\n",
    "    y_center = ((bbox[3] + bbox[1]) / 2) / h\n",
    "    width = (bbox[2] - bbox[0]) / w\n",
    "    height = (bbox[3] - bbox[1]) / h\n",
    "    return [x_center, y_center, width, height]"
   ]
  },
  {
   "cell_type": "code",
   "execution_count": 15,
   "id": "462aee44",
   "metadata": {},
   "outputs": [],
   "source": [
    "classes = []\n",
    "input_dir = path+\"annotations\\\\xmls\\\\\"\n",
    "output_dir = path+\"Yolo\\\\\"\n",
    "image_dir = path+\"images\\\\\"\n",
    "if not os.path.isdir(output_dir):\n",
    "    os.mkdir(output_dir)"
   ]
  },
  {
   "cell_type": "code",
   "execution_count": 16,
   "id": "02fa95e0",
   "metadata": {},
   "outputs": [
    {
     "name": "stderr",
     "output_type": "stream",
     "text": [
      "  0%|          | 0/2829 [00:00<?, ?it/s]"
     ]
    },
    {
     "name": "stderr",
     "output_type": "stream",
     "text": [
      "100%|██████████| 2829/2829 [03:25<00:00, 13.76it/s]\n"
     ]
    }
   ],
   "source": [
    "files = glob.glob(os.path.join(input_dir, '*.xml'))\n",
    "for fil in tqdm(files):\n",
    "    try:\n",
    "        basename = os.path.basename(fil)\n",
    "        filename = os.path.splitext(basename)[0]\n",
    "        if not os.path.exists(os.path.join(image_dir, f\"{filename}.jpg\")):\n",
    "            print(f\"{filename} image does not exist!\")\n",
    "            continue\n",
    "        result = []\n",
    "        tree = ET.parse(fil)\n",
    "        root = tree.getroot()\n",
    "        width = int(root.find(\"size\").find(\"width\").text)\n",
    "        height = int(root.find(\"size\").find(\"height\").text)\n",
    "        for obj in root.findall('object'):\n",
    "            label = obj.find(\"name\").text\n",
    "            if label not in classes:\n",
    "                classes.append(label)\n",
    "            index = classes.index(label)\n",
    "            pil_bbox = [int(x.text) for x in obj.find(\"bndbox\")]\n",
    "            yolo_bbox = xml_to_yolo_bbox(pil_bbox, width, height)\n",
    "            bbox_string = \" \".join([str(x) for x in yolo_bbox])\n",
    "            result.append(f\"{index} {bbox_string}\")\n",
    "        if result:\n",
    "            with open(os.path.join(output_dir, f\"{filename}.txt\"), \"w\", encoding=\"utf-8\") as f:\n",
    "                f.write(\"\\n\".join(result))\n",
    "    except:\n",
    "        pass"
   ]
  },
  {
   "cell_type": "code",
   "execution_count": null,
   "id": "5a376647",
   "metadata": {},
   "outputs": [],
   "source": []
  }
 ],
 "metadata": {
  "kernelspec": {
   "display_name": "tf2",
   "language": "python",
   "name": "python3"
  },
  "language_info": {
   "codemirror_mode": {
    "name": "ipython",
    "version": 3
   },
   "file_extension": ".py",
   "mimetype": "text/x-python",
   "name": "python",
   "nbconvert_exporter": "python",
   "pygments_lexer": "ipython3",
   "version": "3.9.19"
  }
 },
 "nbformat": 4,
 "nbformat_minor": 5
}
