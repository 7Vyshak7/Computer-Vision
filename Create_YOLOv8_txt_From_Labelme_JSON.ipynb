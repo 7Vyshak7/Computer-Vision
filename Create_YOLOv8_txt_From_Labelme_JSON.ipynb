{
 "cells": [
  {
   "cell_type": "code",
   "execution_count": null,
   "id": "9f4a37e9",
   "metadata": {},
   "outputs": [],
   "source": [
    "import json\n",
    "import os\n",
    "\n",
    "json_folder='Path to your Labelme Json Files'\n",
    "txt_folder='Path to your YOLOv8 txt saving folder'\n",
    "\n",
    "folder=os.listdir(json_folder)\n",
    "json_files=[file for file in folder if file.endswith('.json')]\n",
    "n=[]\n",
    "for json_file in json_files[:2]:\n",
    "    print(json_file)\n",
    "    with open(json_folder+json_file) as f:\n",
    "        data=json.load(f)\n",
    "    for i in data['shapes']:\n",
    "        l=[]\n",
    "        if i['label'] not in n:\n",
    "            n.append(i['label'])\n",
    "        for j in (i['points']):\n",
    "            j[0]/=data['imageWidth']\n",
    "            j[1]/=data['imageHeight']\n",
    "            l.append(str(j[0]))\n",
    "            l.append(str(j[1]))\n",
    "        txt=json_file.replace('.json','.txt')\n",
    "        with open(txt_folder+'//'+txt,'a') as yolofile:\n",
    "            yolofile.write('{} {}\\n'.format(n.index(i['label']),' '.join(l)))"
   ]
  }
 ],
 "metadata": {
  "kernelspec": {
   "display_name": "exec",
   "language": "python",
   "name": "python3"
  },
  "language_info": {
   "codemirror_mode": {
    "name": "ipython",
    "version": 3
   },
   "file_extension": ".py",
   "mimetype": "text/x-python",
   "name": "python",
   "nbconvert_exporter": "python",
   "pygments_lexer": "ipython3",
   "version": "3.10.16"
  }
 },
 "nbformat": 4,
 "nbformat_minor": 5
}
